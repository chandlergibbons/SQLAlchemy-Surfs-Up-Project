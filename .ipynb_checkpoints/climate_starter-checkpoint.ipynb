{
 "cells": [
  {
   "cell_type": "code",
   "execution_count": 2,
   "metadata": {},
   "outputs": [],
   "source": [
    "%matplotlib inline\n",
    "from matplotlib import style\n",
    "style.use('fivethirtyeight')\n",
    "import matplotlib.pyplot as plt"
   ]
  },
  {
   "cell_type": "code",
   "execution_count": 3,
   "metadata": {},
   "outputs": [],
   "source": [
    "import numpy as np\n",
    "import pandas as pd\n",
    "import datetime as dt"
   ]
  },
  {
   "cell_type": "markdown",
   "metadata": {},
   "source": [
    "# Reflect Tables into SQLAlchemy ORM"
   ]
  },
  {
   "cell_type": "code",
   "execution_count": 4,
   "metadata": {},
   "outputs": [],
   "source": [
    "# Python SQL toolkit and Object Relational Mapper\n",
    "import sqlalchemy\n",
    "from sqlalchemy.ext.automap import automap_base\n",
    "from sqlalchemy.orm import Session\n",
    "from sqlalchemy import create_engine, func\n",
    "from sqlalchemy import desc"
   ]
  },
  {
   "cell_type": "code",
   "execution_count": 5,
   "metadata": {},
   "outputs": [],
   "source": [
    "# create engine to hawaii.sqlite\n",
    "engine = create_engine(\"sqlite:///hawaii.sqlite\")\n",
    "conn = engine.connect()"
   ]
  },
  {
   "cell_type": "code",
   "execution_count": 6,
   "metadata": {},
   "outputs": [
    {
     "name": "stdout",
     "output_type": "stream",
     "text": [
      "('table', 'measurement', 'measurement', 2, 'CREATE TABLE measurement (\\n\\tid INTEGER NOT NULL, \\n\\tstation TEXT, \\n\\tdate TEXT, \\n\\tprcp FLOAT, \\n\\ttobs FLOAT, \\n\\tPRIMARY KEY (id)\\n)')\n",
      "('table', 'station', 'station', 3, 'CREATE TABLE station (\\n\\tid INTEGER NOT NULL, \\n\\tstation TEXT, \\n\\tname TEXT, \\n\\tlatitude FLOAT, \\n\\tlongitude FLOAT, \\n\\televation FLOAT, \\n\\tPRIMARY KEY (id)\\n)')\n"
     ]
    }
   ],
   "source": [
    "#helps me see what im working with\n",
    "data = engine.execute(\"SELECT * FROM sqlite_master;\")\n",
    "\n",
    "for record in data:\n",
    "    print(record)"
   ]
  },
  {
   "cell_type": "code",
   "execution_count": 7,
   "metadata": {},
   "outputs": [],
   "source": [
    "# reflect an existing database into a new model\n",
    "Base = automap_base()\n",
    "\n",
    "# reflect the tables\n",
    "Base.prepare(engine, reflect=True)"
   ]
  },
  {
   "cell_type": "code",
   "execution_count": 8,
   "metadata": {},
   "outputs": [
    {
     "data": {
      "text/plain": [
       "['measurement', 'station']"
      ]
     },
     "execution_count": 8,
     "metadata": {},
     "output_type": "execute_result"
    }
   ],
   "source": [
    "# View all of the classes that automap found\n",
    "Base.classes.keys()"
   ]
  },
  {
   "cell_type": "code",
   "execution_count": 9,
   "metadata": {},
   "outputs": [],
   "source": [
    "# Save references to each table\n",
    "Station = Base.classes.station\n",
    "Measurement = Base.classes.measurement"
   ]
  },
  {
   "cell_type": "code",
   "execution_count": 10,
   "metadata": {},
   "outputs": [],
   "source": [
    "# Create our session (link) from Python to the DB\n",
    "session = Session(engine)"
   ]
  },
  {
   "cell_type": "markdown",
   "metadata": {},
   "source": [
    "# Exploratory Precipitation Analysis"
   ]
  },
  {
   "cell_type": "code",
   "execution_count": 11,
   "metadata": {},
   "outputs": [
    {
     "name": "stdout",
     "output_type": "stream",
     "text": [
      "2017-08-23\n"
     ]
    }
   ],
   "source": [
    "# Find the most recent date in the data set.\n",
    "newest_date = session.query(Measurement).order_by(desc('date')).first()\n",
    "\n",
    "# for n_date in newest_date:\n",
    "#     print(n_date)\n",
    "    \n",
    "print(newest_date.date)\n",
    "old_date = newest_date.date"
   ]
  },
  {
   "cell_type": "code",
   "execution_count": 40,
   "metadata": {
    "scrolled": true
   },
   "outputs": [
    {
     "data": {
      "image/png": "[encoded data removed]",
      "text/plain": [
       "<Figure size 432x288 with 1 Axes>"
      ]
     },
     "metadata": {},
     "output_type": "display_data"
    }
   ],
   "source": [
    "# Design a query to retrieve the last 12 months of precipitation data and plot the results. \n",
    "# Starting from the most recent data point in the database. \n",
    "\n",
    "\n",
    "# Calculate the date one year from the last date in data set.\n",
    "from datetime import datetime\n",
    "from dateutil.relativedelta import relativedelta\n",
    "\n",
    "#subtracts a year off of old_date variable\n",
    "your_date_string = old_date\n",
    "format_string = \"%Y-%m-%d\"\n",
    "\n",
    "datetime_object = datetime.strptime(old_date, format_string).date()\n",
    "new_date = datetime_object - relativedelta(years=1)\n",
    "new_date_string = datetime.strftime(new_date, format_string).replace(' 0', ' ')\n",
    "\n",
    "# Perform a query to retrieve the data and precipitation scores\n",
    "sel=[Measurement.date, Measurement.prcp]\n",
    "date_precip_scores = session.query(*sel).filter(Measurement.date >= new_date_string).all()\n",
    "\n",
    "# Save the query results as a Pandas DataFrame and set the index to the date column\n",
    "date_precip_scores_pd = pd.DataFrame(date_precip_scores,columns=['Date', 'Precip_score'])\n",
    "\n",
    "\n",
    "\n",
    "\n",
    "# Sort the dataframe by date (already done in the query)\n",
    "\n",
    "# Use Pandas Plotting with Matplotlib to plot the data\n",
    "\n",
    "date_precip_scores_pd.sort_values('Date', inplace=True)\n",
    "date_precip_scores_pd.plot(x = 'Date', y='Precip_score', rot=90)\n",
    "plt.xlabel(\"Date\")\n",
    "plt.ylabel(\"Inches\")\n",
    "plt.legend(['Percipitation'])\n",
    "plt.locator_params(axis=\"x\", nbins=10)\n",
    "plt.xticks(rotation = 90)\n",
    "plt.show()\n",
    "\n",
    "\n",
    "\n"
   ]
  },
  {
   "cell_type": "code",
   "execution_count": 27,
   "metadata": {},
   "outputs": [
    {
     "data": {
      "text/plain": [
       "count    2021.000000\n",
       "mean        0.177279\n",
       "std         0.461190\n",
       "min         0.000000\n",
       "25%         0.000000\n",
       "50%         0.020000\n",
       "75%         0.130000\n",
       "max         6.700000\n",
       "Name: Precip_score, dtype: float64"
      ]
     },
     "execution_count": 27,
     "metadata": {},
     "output_type": "execute_result"
    }
   ],
   "source": [
    "# Use Pandas to calcualte the summary statistics for the precipitation data\n",
    "date_precip_scores_pd['Precip_score'].describe()"
   ]
  },
  {
   "cell_type": "markdown",
   "metadata": {},
   "source": [
    "# Exploratory Station Analysis"
   ]
  },
  {
   "cell_type": "code",
   "execution_count": 28,
   "metadata": {},
   "outputs": [
    {
     "data": {
      "text/plain": [
       "9"
      ]
     },
     "execution_count": 28,
     "metadata": {},
     "output_type": "execute_result"
    }
   ],
   "source": [
    "# Design a query to calculate the total number stations in the dataset\n",
    " \n",
    "tot_stations = session.query(Station.station).count()\n",
    "\n",
    "\n",
    "tot_stations\n"
   ]
  },
  {
   "cell_type": "code",
   "execution_count": 29,
   "metadata": {},
   "outputs": [
    {
     "data": {
      "text/plain": [
       "[('USC00519281', 2772),\n",
       " ('USC00519397', 2724),\n",
       " ('USC00513117', 2709),\n",
       " ('USC00519523', 2669),\n",
       " ('USC00516128', 2612),\n",
       " ('USC00514830', 2202),\n",
       " ('USC00511918', 1979),\n",
       " ('USC00517948', 1372),\n",
       " ('USC00518838', 511)]"
      ]
     },
     "execution_count": 29,
     "metadata": {},
     "output_type": "execute_result"
    }
   ],
   "source": [
    "# Design a query to find the most active stations (i.e. what stations have the most rows?)\n",
    "# List the stations and the counts in descending order.\n",
    "\n",
    "sel2=[Measurement.station, func.count(Measurement.station).label(\"active\")]\n",
    "active_stations = session.query(*sel2).group_by(Measurement.station).order_by(desc(\"active\")).all()\n",
    "\n",
    "active_stations"
   ]
  },
  {
   "cell_type": "code",
   "execution_count": 30,
   "metadata": {},
   "outputs": [
    {
     "data": {
      "text/plain": [
       "[('USC00519397', 54.0, 87.0, 73.56913655848132)]"
      ]
     },
     "execution_count": 30,
     "metadata": {},
     "output_type": "execute_result"
    }
   ],
   "source": [
    "# Using the most active station id from the previous query, calculate the lowest, highest, and average temperature.\n",
    "sel3=[Measurement.station, func.min(Measurement.tobs), func.max(Measurement.tobs), func.avg(Measurement.tobs)]\n",
    "date_precip_scores = session.query(*sel3).filter(Measurement.station >= active_stations[0][0]).all()\n",
    "\n",
    "date_precip_scores\n",
    "\n"
   ]
  },
  {
   "cell_type": "code",
   "execution_count": 31,
   "metadata": {},
   "outputs": [
    {
     "data": {
      "image/png": "[encoded data removed]",
      "text/plain": [
       "<Figure size 432x288 with 1 Axes>"
      ]
     },
     "metadata": {},
     "output_type": "display_data"
    }
   ],
   "source": [
    "# Using the most active station id\n",
    "# Query the last 12 months of temperature observation data for this station and plot the results as a histogram\n",
    "\n",
    "sel4=[Measurement.date, Measurement.tobs]\n",
    "active_sation_histo = session.query(*sel4).filter(Measurement.date >= new_date_string).filter(Measurement.station >= active_stations[0][0]).all()\n",
    "\n",
    "active_sation_histo_pd = pd.DataFrame(active_sation_histo,columns=['Date', 'tempatures'])\n",
    "\n",
    "plt.hist(active_sation_histo_pd[\"tempatures\"], bins = 12)\n",
    "plt.xlabel(\"Tempature\")\n",
    "plt.ylabel(\"Frequency\")\n",
    "plt.legend(['tobs'])\n",
    "plt.title(f\"The last 12 months of temperature observation data for station {active_stations[0][0]}\")\n",
    "plt.show()\n"
   ]
  },
  {
   "cell_type": "markdown",
   "metadata": {},
   "source": [
    "# Close session"
   ]
  },
  {
   "cell_type": "code",
   "execution_count": 32,
   "metadata": {},
   "outputs": [],
   "source": [
    "# Close Session\n",
    "session.close()"
   ]
  },
  {
   "cell_type": "code",
   "execution_count": 33,
   "metadata": {},
   "outputs": [
    {
     "data": {
      "text/html": [
       "<div>\n",
       "<style scoped>\n",
       "    .dataframe tbody tr th:only-of-type {\n",
       "        vertical-align: middle;\n",
       "    }\n",
       "\n",
       "    .dataframe tbody tr th {\n",
       "        vertical-align: top;\n",
       "    }\n",
       "\n",
       "    .dataframe thead th {\n",
       "        text-align: right;\n",
       "    }\n",
       "</style>\n",
       "<table border=\"1\" class=\"dataframe\">\n",
       "  <thead>\n",
       "    <tr style=\"text-align: right;\">\n",
       "      <th></th>\n",
       "      <th>id</th>\n",
       "      <th>station</th>\n",
       "      <th>date</th>\n",
       "      <th>prcp</th>\n",
       "      <th>tobs</th>\n",
       "    </tr>\n",
       "  </thead>\n",
       "  <tbody>\n",
       "    <tr>\n",
       "      <th>0</th>\n",
       "      <td>1</td>\n",
       "      <td>USC00519397</td>\n",
       "      <td>2010-01-01</td>\n",
       "      <td>0.08</td>\n",
       "      <td>65.0</td>\n",
       "    </tr>\n",
       "    <tr>\n",
       "      <th>1</th>\n",
       "      <td>2</td>\n",
       "      <td>USC00519397</td>\n",
       "      <td>2010-01-02</td>\n",
       "      <td>0.00</td>\n",
       "      <td>63.0</td>\n",
       "    </tr>\n",
       "    <tr>\n",
       "      <th>2</th>\n",
       "      <td>3</td>\n",
       "      <td>USC00519397</td>\n",
       "      <td>2010-01-03</td>\n",
       "      <td>0.00</td>\n",
       "      <td>74.0</td>\n",
       "    </tr>\n",
       "    <tr>\n",
       "      <th>3</th>\n",
       "      <td>4</td>\n",
       "      <td>USC00519397</td>\n",
       "      <td>2010-01-04</td>\n",
       "      <td>0.00</td>\n",
       "      <td>76.0</td>\n",
       "    </tr>\n",
       "    <tr>\n",
       "      <th>4</th>\n",
       "      <td>5</td>\n",
       "      <td>USC00519397</td>\n",
       "      <td>2010-01-06</td>\n",
       "      <td>NaN</td>\n",
       "      <td>73.0</td>\n",
       "    </tr>\n",
       "    <tr>\n",
       "      <th>...</th>\n",
       "      <td>...</td>\n",
       "      <td>...</td>\n",
       "      <td>...</td>\n",
       "      <td>...</td>\n",
       "      <td>...</td>\n",
       "    </tr>\n",
       "    <tr>\n",
       "      <th>19545</th>\n",
       "      <td>19546</td>\n",
       "      <td>USC00516128</td>\n",
       "      <td>2017-08-19</td>\n",
       "      <td>0.09</td>\n",
       "      <td>71.0</td>\n",
       "    </tr>\n",
       "    <tr>\n",
       "      <th>19546</th>\n",
       "      <td>19547</td>\n",
       "      <td>USC00516128</td>\n",
       "      <td>2017-08-20</td>\n",
       "      <td>NaN</td>\n",
       "      <td>78.0</td>\n",
       "    </tr>\n",
       "    <tr>\n",
       "      <th>19547</th>\n",
       "      <td>19548</td>\n",
       "      <td>USC00516128</td>\n",
       "      <td>2017-08-21</td>\n",
       "      <td>0.56</td>\n",
       "      <td>76.0</td>\n",
       "    </tr>\n",
       "    <tr>\n",
       "      <th>19548</th>\n",
       "      <td>19549</td>\n",
       "      <td>USC00516128</td>\n",
       "      <td>2017-08-22</td>\n",
       "      <td>0.50</td>\n",
       "      <td>76.0</td>\n",
       "    </tr>\n",
       "    <tr>\n",
       "      <th>19549</th>\n",
       "      <td>19550</td>\n",
       "      <td>USC00516128</td>\n",
       "      <td>2017-08-23</td>\n",
       "      <td>0.45</td>\n",
       "      <td>76.0</td>\n",
       "    </tr>\n",
       "  </tbody>\n",
       "</table>\n",
       "<p>19550 rows × 5 columns</p>\n",
       "</div>"
      ],
      "text/plain": [
       "          id      station        date  prcp  tobs\n",
       "0          1  USC00519397  2010-01-01  0.08  65.0\n",
       "1          2  USC00519397  2010-01-02  0.00  63.0\n",
       "2          3  USC00519397  2010-01-03  0.00  74.0\n",
       "3          4  USC00519397  2010-01-04  0.00  76.0\n",
       "4          5  USC00519397  2010-01-06   NaN  73.0\n",
       "...      ...          ...         ...   ...   ...\n",
       "19545  19546  USC00516128  2017-08-19  0.09  71.0\n",
       "19546  19547  USC00516128  2017-08-20   NaN  78.0\n",
       "19547  19548  USC00516128  2017-08-21  0.56  76.0\n",
       "19548  19549  USC00516128  2017-08-22  0.50  76.0\n",
       "19549  19550  USC00516128  2017-08-23  0.45  76.0\n",
       "\n",
       "[19550 rows x 5 columns]"
      ]
     },
     "execution_count": 33,
     "metadata": {},
     "output_type": "execute_result"
    }
   ],
   "source": [
    "#Used for a visual when referencing database\n",
    "\n",
    "df = pd.read_sql(\"SELECT * FROM measurement;\", conn)\n",
    "\n",
    "df"
   ]
  }
 ],
 "metadata": {
  "anaconda-cloud": {},
  "kernel_info": {
   "name": "python3"
  },
  "kernelspec": {
   "display_name": "Python 3",
   "language": "python",
   "name": "python3"
  },
  "language_info": {
   "codemirror_mode": {
    "name": "ipython",
    "version": 3
   },
   "file_extension": ".py",
   "mimetype": "text/x-python",
   "name": "python",
   "nbconvert_exporter": "python",
   "pygments_lexer": "ipython3",
   "version": "3.7.6"
  },
  "nteract": {
   "version": "0.12.3"
  },
  "varInspector": {
   "cols": {
    "lenName": 16,
    "lenType": 16,
    "lenVar": 40
   },
   "kernels_config": {
    "python": {
     "delete_cmd_postfix": "",
     "delete_cmd_prefix": "del ",
     "library": "var_list.py",
     "varRefreshCmd": "print(var_dic_list())"
    },
    "r": {
     "delete_cmd_postfix": ") ",
     "delete_cmd_prefix": "rm(",
     "library": "var_list.r",
     "varRefreshCmd": "cat(var_dic_list()) "
    }
   },
   "types_to_exclude": [
    "module",
    "function",
    "builtin_function_or_method",
    "instance",
    "_Feature"
   ],
   "window_display": false
  }
 },
 "nbformat": 4,
 "nbformat_minor": 2
}
